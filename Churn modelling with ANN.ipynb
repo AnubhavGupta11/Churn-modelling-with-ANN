{
 "cells": [
  {
   "cell_type": "code",
   "execution_count": 1,
   "metadata": {
    "id": "D2IliGyI62B0"
   },
   "outputs": [
    {
     "name": "stdout",
     "output_type": "stream",
     "text": [
      "WARNING:tensorflow:From C:\\Users\\anubh\\anaconda3\\vibha\\lib\\site-packages\\keras\\src\\losses.py:2976: The name tf.losses.sparse_softmax_cross_entropy is deprecated. Please use tf.compat.v1.losses.sparse_softmax_cross_entropy instead.\n",
      "\n"
     ]
    }
   ],
   "source": [
    "import tensorflow as tf"
   ]
  },
  {
   "cell_type": "code",
   "execution_count": 2,
   "metadata": {
    "colab": {
     "base_uri": "https://localhost:8080/"
    },
    "id": "4_fyxUHb7GuH",
    "outputId": "2c8a495d-cff8-49f1-b9c2-fa63165b0043"
   },
   "outputs": [
    {
     "name": "stdout",
     "output_type": "stream",
     "text": [
      "2.15.0\n"
     ]
    }
   ],
   "source": [
    "print(tf.__version__)"
   ]
  },
  {
   "cell_type": "code",
   "execution_count": 3,
   "metadata": {
    "id": "LLvV2K-o7KAp"
   },
   "outputs": [],
   "source": [
    "# Importing the libraries\n",
    "import numpy as np\n",
    "import matplotlib.pyplot as plt\n",
    "import pandas as pd"
   ]
  },
  {
   "cell_type": "code",
   "execution_count": 4,
   "metadata": {
    "id": "gHRHobkK7Sxn"
   },
   "outputs": [],
   "source": [
    "# Importing the dataset\n",
    "dataset = pd.read_csv('Churn_Modelling.csv')\n",
    "X = dataset.iloc[:, 3:13]\n",
    "y = dataset.iloc[:, 13]"
   ]
  },
  {
   "cell_type": "code",
   "execution_count": 5,
   "metadata": {
    "id": "T2yS0VL67Ufn"
   },
   "outputs": [],
   "source": [
    "#Create dummy variables\n",
    "geography=pd.get_dummies(X[\"Geography\"],drop_first=True)\n",
    "gender=pd.get_dummies(X['Gender'],drop_first=True)"
   ]
  },
  {
   "cell_type": "code",
   "execution_count": 6,
   "metadata": {
    "id": "Co2rxaFR7Wgo"
   },
   "outputs": [],
   "source": [
    "## Concatenate the Data Frames\n",
    "\n",
    "X=pd.concat([X,geography,gender],axis=1)\n",
    "\n",
    "## Drop Unnecessary columns\n",
    "X=X.drop(['Geography','Gender'],axis=1)\n",
    "\n",
    "# Splitting the dataset into the Training set and Test set\n",
    "from sklearn.model_selection import train_test_split\n",
    "X_train, X_test, y_train, y_test = train_test_split(X, y, test_size = 0.2, random_state = 0)\n"
   ]
  },
  {
   "cell_type": "code",
   "execution_count": 7,
   "metadata": {
    "id": "GNZrZXy37ZLs"
   },
   "outputs": [],
   "source": [
    "# Feature Scaling\n",
    "from sklearn.preprocessing import StandardScaler\n",
    "sc = StandardScaler()\n",
    "X_train = sc.fit_transform(X_train)\n",
    "X_test = sc.transform(X_test)\n"
   ]
  },
  {
   "cell_type": "code",
   "execution_count": 8,
   "metadata": {
    "id": "uwN3bgie7bvT"
   },
   "outputs": [],
   "source": [
    "# Part 2 - Now let's make the ANN!"
   ]
  },
  {
   "cell_type": "code",
   "execution_count": 9,
   "metadata": {
    "id": "rL_a7vWu7dj1"
   },
   "outputs": [],
   "source": [
    "from tensorflow.keras.models import Sequential\n",
    "from tensorflow.keras.layers import Dense\n",
    "from tensorflow.keras.layers import LeakyReLU,PReLU,ELU\n",
    "from tensorflow.keras.layers import Dropout\n"
   ]
  },
  {
   "cell_type": "code",
   "execution_count": 13,
   "metadata": {
    "id": "VDJwvrbZ7kj4"
   },
   "outputs": [],
   "source": [
    "# Initialising the ANN\n",
    "model = Sequential()"
   ]
  },
  {
   "cell_type": "code",
   "execution_count": 14,
   "metadata": {
    "id": "RSZQrU-g7z4N"
   },
   "outputs": [],
   "source": [
    "# Adding the input layer and the first hidden layer\n",
    "model.add(Dense(units=11,activation='relu'))"
   ]
  },
  {
   "cell_type": "code",
   "execution_count": 15,
   "metadata": {
    "id": "byszZMvw8RcQ"
   },
   "outputs": [],
   "source": [
    "# Adding the input layer and the first hidden layer\n",
    "model.add(Dense(units=6,activation='relu'))\n",
    "model.add(Dropout(0.2))"
   ]
  },
  {
   "cell_type": "code",
   "execution_count": 16,
   "metadata": {
    "id": "Mk2slmAX8XUI"
   },
   "outputs": [],
   "source": [
    "# Adding the input layer and the first hidden layer\n",
    "model.add(Dense(units=1,activation='relu'))\n",
    "model.add(Dropout(0.3))"
   ]
  },
  {
   "cell_type": "code",
   "execution_count": 20,
   "metadata": {},
   "outputs": [],
   "source": [
    "#To define own learning rate\n",
    "import tensorflow\n",
    "opt=tensorflow.keras.optimizers.Adam(learning_rate=0.01)"
   ]
  },
  {
   "cell_type": "code",
   "execution_count": 21,
   "metadata": {
    "id": "F2udThHo8cFt"
   },
   "outputs": [],
   "source": [
    "#classifier.compile(optimizer='adam',loss='binary_crossentropy',metrics=['accuracy'])\n",
    "model.compile(optimizer=opt,loss='binary_crossentropy',metrics=['accuracy'])"
   ]
  },
  {
   "cell_type": "code",
   "execution_count": null,
   "metadata": {},
   "outputs": [],
   "source": []
  },
  {
   "cell_type": "code",
   "execution_count": 22,
   "metadata": {},
   "outputs": [],
   "source": [
    "early_stopping=tf.keras.callbacks.EarlyStopping(\n",
    "    monitor='val_loss',\n",
    "    min_delta=0.0001,\n",
    "    patience=20,\n",
    "    verbose=1,\n",
    "    mode='auto',\n",
    "    baseline=None,\n",
    "    restore_best_weights=False,\n",
    "    start_from_epoch=0\n",
    ")"
   ]
  },
  {
   "cell_type": "code",
   "execution_count": 23,
   "metadata": {
    "colab": {
     "base_uri": "https://localhost:8080/"
    },
    "id": "3qairJAs8fIc",
    "outputId": "0730a4ec-193f-41ae-daff-4ccc7673b142"
   },
   "outputs": [
    {
     "name": "stdout",
     "output_type": "stream",
     "text": [
      "Epoch 1/50\n",
      "WARNING:tensorflow:From C:\\Users\\anubh\\anaconda3\\vibha\\lib\\site-packages\\keras\\src\\utils\\tf_utils.py:492: The name tf.ragged.RaggedTensorValue is deprecated. Please use tf.compat.v1.ragged.RaggedTensorValue instead.\n",
      "\n",
      "WARNING:tensorflow:From C:\\Users\\anubh\\anaconda3\\vibha\\lib\\site-packages\\keras\\src\\engine\\base_layer_utils.py:384: The name tf.executing_eagerly_outside_functions is deprecated. Please use tf.compat.v1.executing_eagerly_outside_functions instead.\n",
      "\n",
      "536/536 [==============================] - 3s 3ms/step - loss: 1.5717 - accuracy: 0.7932 - val_loss: 0.5722 - val_accuracy: 0.7955\n",
      "Epoch 2/50\n",
      "536/536 [==============================] - 1s 3ms/step - loss: 1.3163 - accuracy: 0.7974 - val_loss: 0.5529 - val_accuracy: 0.7959\n",
      "Epoch 3/50\n",
      "536/536 [==============================] - 1s 3ms/step - loss: 1.3856 - accuracy: 0.8016 - val_loss: 0.5224 - val_accuracy: 0.8039\n",
      "Epoch 4/50\n",
      "536/536 [==============================] - 1s 3ms/step - loss: 1.2282 - accuracy: 0.8084 - val_loss: 0.4417 - val_accuracy: 0.8084\n",
      "Epoch 5/50\n",
      "536/536 [==============================] - 1s 3ms/step - loss: 1.2982 - accuracy: 0.8160 - val_loss: 0.5052 - val_accuracy: 0.7963\n",
      "Epoch 6/50\n",
      "536/536 [==============================] - 1s 3ms/step - loss: 1.2723 - accuracy: 0.8156 - val_loss: 0.4501 - val_accuracy: 0.8103\n",
      "Epoch 7/50\n",
      "536/536 [==============================] - 2s 3ms/step - loss: 1.1488 - accuracy: 0.8281 - val_loss: 0.4213 - val_accuracy: 0.8232\n",
      "Epoch 8/50\n",
      "536/536 [==============================] - 2s 3ms/step - loss: 1.1978 - accuracy: 0.8233 - val_loss: 0.4697 - val_accuracy: 0.8069\n",
      "Epoch 9/50\n",
      "536/536 [==============================] - 2s 3ms/step - loss: 1.1818 - accuracy: 0.8280 - val_loss: 0.3861 - val_accuracy: 0.8338\n",
      "Epoch 10/50\n",
      "536/536 [==============================] - 2s 3ms/step - loss: 1.1462 - accuracy: 0.8306 - val_loss: 0.3900 - val_accuracy: 0.8300\n",
      "Epoch 11/50\n",
      "536/536 [==============================] - 2s 3ms/step - loss: 1.2266 - accuracy: 0.8265 - val_loss: 0.4175 - val_accuracy: 0.8190\n",
      "Epoch 12/50\n",
      "536/536 [==============================] - 2s 3ms/step - loss: 1.1774 - accuracy: 0.8302 - val_loss: 0.4279 - val_accuracy: 0.8224\n",
      "Epoch 13/50\n",
      "536/536 [==============================] - 2s 3ms/step - loss: 1.2313 - accuracy: 0.8296 - val_loss: 0.4117 - val_accuracy: 0.8190\n",
      "Epoch 14/50\n",
      "536/536 [==============================] - 1s 3ms/step - loss: 1.2746 - accuracy: 0.8233 - val_loss: 0.3983 - val_accuracy: 0.8349\n",
      "Epoch 15/50\n",
      "536/536 [==============================] - 2s 3ms/step - loss: 1.2391 - accuracy: 0.8308 - val_loss: 0.4298 - val_accuracy: 0.8145\n",
      "Epoch 16/50\n",
      "536/536 [==============================] - 2s 3ms/step - loss: 2.7498 - accuracy: 0.8039 - val_loss: 3.1539 - val_accuracy: 0.7955\n",
      "Epoch 17/50\n",
      "536/536 [==============================] - 2s 3ms/step - loss: 3.1431 - accuracy: 0.7962 - val_loss: 3.1539 - val_accuracy: 0.7955\n",
      "Epoch 18/50\n",
      "536/536 [==============================] - 2s 3ms/step - loss: 3.1431 - accuracy: 0.7962 - val_loss: 3.1539 - val_accuracy: 0.7955\n",
      "Epoch 19/50\n",
      "536/536 [==============================] - 2s 3ms/step - loss: 3.1431 - accuracy: 0.7962 - val_loss: 3.1539 - val_accuracy: 0.7955\n",
      "Epoch 20/50\n",
      "536/536 [==============================] - 2s 3ms/step - loss: 3.1431 - accuracy: 0.7962 - val_loss: 3.1539 - val_accuracy: 0.7955\n",
      "Epoch 21/50\n",
      "536/536 [==============================] - 2s 3ms/step - loss: 3.1431 - accuracy: 0.7962 - val_loss: 3.1539 - val_accuracy: 0.7955\n",
      "Epoch 22/50\n",
      "536/536 [==============================] - 2s 3ms/step - loss: 3.1431 - accuracy: 0.7962 - val_loss: 3.1539 - val_accuracy: 0.7955\n",
      "Epoch 23/50\n",
      "536/536 [==============================] - 2s 3ms/step - loss: 3.1431 - accuracy: 0.7962 - val_loss: 3.1539 - val_accuracy: 0.7955\n",
      "Epoch 24/50\n",
      "536/536 [==============================] - 1s 3ms/step - loss: 3.1431 - accuracy: 0.7962 - val_loss: 3.1539 - val_accuracy: 0.7955\n",
      "Epoch 25/50\n",
      "536/536 [==============================] - 2s 3ms/step - loss: 3.1431 - accuracy: 0.7962 - val_loss: 3.1539 - val_accuracy: 0.7955\n",
      "Epoch 26/50\n",
      "536/536 [==============================] - 2s 3ms/step - loss: 3.1431 - accuracy: 0.7962 - val_loss: 3.1539 - val_accuracy: 0.7955\n",
      "Epoch 27/50\n",
      "536/536 [==============================] - 2s 3ms/step - loss: 3.1431 - accuracy: 0.7962 - val_loss: 3.1539 - val_accuracy: 0.7955\n",
      "Epoch 28/50\n",
      "536/536 [==============================] - 2s 3ms/step - loss: 3.1431 - accuracy: 0.7962 - val_loss: 3.1539 - val_accuracy: 0.7955\n",
      "Epoch 29/50\n",
      "536/536 [==============================] - 1s 3ms/step - loss: 3.1431 - accuracy: 0.7962 - val_loss: 3.1539 - val_accuracy: 0.7955\n",
      "Epoch 29: early stopping\n"
     ]
    }
   ],
   "source": [
    "model_history=model.fit(X_train,y_train,validation_split=0.33,batch_size=10,epochs=50,callbacks=early_stopping)"
   ]
  },
  {
   "cell_type": "code",
   "execution_count": 24,
   "metadata": {
    "colab": {
     "base_uri": "https://localhost:8080/"
    },
    "id": "Q9t_M4wICTTz",
    "outputId": "18fa935a-8009-407f-de61-7f6a83669624"
   },
   "outputs": [
    {
     "name": "stdout",
     "output_type": "stream",
     "text": [
      "dict_keys(['loss', 'accuracy', 'val_loss', 'val_accuracy'])\n"
     ]
    }
   ],
   "source": [
    "# list all data in history\n",
    "\n",
    "print(model_history.history.keys())"
   ]
  },
  {
   "cell_type": "code",
   "execution_count": 25,
   "metadata": {
    "colab": {
     "base_uri": "https://localhost:8080/",
     "height": 295
    },
    "id": "MMOyiwzgBlLY",
    "outputId": "aeb29600-3c1f-41aa-9e29-05acf6011ed8"
   },
   "outputs": [
    {
     "data": {
      "image/png": "[encoded data removed]",
      "text/plain": [
       "<Figure size 640x480 with 1 Axes>"
      ]
     },
     "metadata": {},
     "output_type": "display_data"
    }
   ],
   "source": [
    "\n",
    "# summarize history for accuracy\n",
    "plt.plot(model_history.history['accuracy'])\n",
    "plt.plot(model_history.history['val_accuracy'])\n",
    "plt.title('model accuracy')\n",
    "plt.ylabel('accuracy')\n",
    "plt.xlabel('epoch')\n",
    "plt.legend(['train', 'test'], loc='upper left')\n",
    "plt.show()"
   ]
  },
  {
   "cell_type": "code",
   "execution_count": 26,
   "metadata": {
    "colab": {
     "base_uri": "https://localhost:8080/",
     "height": 295
    },
    "id": "QH141RsQCEr0",
    "outputId": "4566dca0-b002-4f59-b6e8-f8654b414283"
   },
   "outputs": [
    {
     "data": {
      "image/png": "[encoded data removed]",
      "text/plain": [
       "<Figure size 640x480 with 1 Axes>"
      ]
     },
     "metadata": {},
     "output_type": "display_data"
    }
   ],
   "source": [
    "# summarize history for loss\n",
    "plt.plot(model_history.history['loss'])\n",
    "plt.plot(model_history.history['val_loss'])\n",
    "plt.title('model loss')\n",
    "plt.ylabel('loss')\n",
    "plt.xlabel('epoch')\n",
    "plt.legend(['train', 'test'], loc='upper left')\n",
    "plt.show()"
   ]
  },
  {
   "cell_type": "code",
   "execution_count": 28,
   "metadata": {
    "id": "OYqCIIkDCd8S"
   },
   "outputs": [
    {
     "name": "stdout",
     "output_type": "stream",
     "text": [
      "63/63 [==============================] - 0s 2ms/step\n"
     ]
    }
   ],
   "source": [
    "# Part 3 - Making the predictions and evaluating the model\n",
    "\n",
    "# Predicting the Test set results\n",
    "y_pred = model.predict(X_test)\n",
    "y_pred = (y_pred > 0.5)"
   ]
  },
  {
   "cell_type": "code",
   "execution_count": 29,
   "metadata": {
    "colab": {
     "base_uri": "https://localhost:8080/"
    },
    "id": "cm3EeOGTCi3-",
    "outputId": "f3cfe210-0811-4c4e-ce72-4100b32bb79f"
   },
   "outputs": [
    {
     "data": {
      "text/plain": [
       "array([[1595,    0],\n",
       "       [ 405,    0]], dtype=int64)"
      ]
     },
     "execution_count": 29,
     "metadata": {},
     "output_type": "execute_result"
    }
   ],
   "source": [
    "# Making the Confusion Matrix\n",
    "from sklearn.metrics import confusion_matrix\n",
    "cm = confusion_matrix(y_test, y_pred)\n",
    "cm"
   ]
  },
  {
   "cell_type": "code",
   "execution_count": 30,
   "metadata": {
    "id": "FgfRKzzOClmP"
   },
   "outputs": [],
   "source": [
    "# Calculate the Accuracy\n",
    "from sklearn.metrics import accuracy_score\n",
    "score=accuracy_score(y_pred,y_test)"
   ]
  },
  {
   "cell_type": "code",
   "execution_count": 31,
   "metadata": {
    "colab": {
     "base_uri": "https://localhost:8080/"
    },
    "id": "a_C5EETrCpSj",
    "outputId": "6e495c58-0149-453b-b0d6-592606fe5c80"
   },
   "outputs": [
    {
     "data": {
      "text/plain": [
       "0.7975"
      ]
     },
     "execution_count": 31,
     "metadata": {},
     "output_type": "execute_result"
    }
   ],
   "source": [
    "score"
   ]
  },
  {
   "cell_type": "code",
   "execution_count": null,
   "metadata": {
    "id": "UTvHAjYWCqWx"
   },
   "outputs": [],
   "source": []
  },
  {
   "cell_type": "code",
   "execution_count": null,
   "metadata": {},
   "outputs": [],
   "source": []
  }
 ],
 "metadata": {
  "colab": {
   "name": "Untitled63.ipynb",
   "provenance": []
  },
  "kernelspec": {
   "display_name": "Python 3 (ipykernel)",
   "language": "python",
   "name": "python3"
  },
  "language_info": {
   "codemirror_mode": {
    "name": "ipython",
    "version": 3
   },
   "file_extension": ".py",
   "mimetype": "text/x-python",
   "name": "python",
   "nbconvert_exporter": "python",
   "pygments_lexer": "ipython3",
   "version": "3.10.9"
  }
 },
 "nbformat": 4,
 "nbformat_minor": 1
}
